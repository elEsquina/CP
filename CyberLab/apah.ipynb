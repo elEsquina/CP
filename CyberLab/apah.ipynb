{
 "cells": [
  {
   "cell_type": "code",
   "execution_count": 1,
   "metadata": {},
   "outputs": [],
   "source": [
    "#acm vicechair\n",
    "stri = '''\n",
    "Samia Lachgar\n",
    "Abaouz Badr\n",
    "Mohamed Ait Lahcen\n",
    "SKIRIBA Ilyass\n",
    "MOUSSAIF Ayoub\n",
    "Aya Squalli Houssaini\n",
    "Anass kemmoune\n",
    "Kawtar labzae\n",
    "alae elmahdaoui\n",
    "Anir Achibane\n",
    "NANA Mohamed Idriss\n",
    "Zineb abercha\n",
    "Mahmoud Maftah\n",
    "Mohamed Ayman Bourich\n",
    "Manal ZAIDI\n",
    "Taha Tahiri Alaoui\n",
    "Nour el houda el iamani\n",
    "Achibane Anir\n",
    "Ilyas Boudhaine\n",
    "Hiba El Bouanani\n",
    "Maha hanif\n",
    "OUSSAMA GHIATI\n",
    "QADDA Salim\n",
    "Dahmani Abdelaziz\n",
    "Marwa BOUDLAL\n",
    "OUHMAD Hiba\n",
    "BLALI YASSINE\n",
    "OUSSAYH Abderrahim\n",
    "Oumaima Mouimi\n",
    "Youness Anouar\n",
    "Mouad ELANSARI\n",
    "Jamila lifsal\n",
    "Omar Alfarouq Bouhadi\n",
    "ikram benfellah\n",
    "Aboutabit Sara\n",
    "FARAH BOUHZAM\n",
    "Aya Benjelloun\n",
    "Farah amhali\n",
    "RHALLAB Haytam\n",
    "Elghali Benjelloun\n",
    "Hamza GOUGASSE\n",
    "Mounia BADDOU\n",
    "Adam Hajjaji\n",
    "Yassine Adam\n",
    "Imane Rahali\n",
    "Zakaria CHOUKRI\n",
    "Oussama Laaroussi\n",
    "Kably malak\n",
    "Qailouli Mehdi\n",
    "Chahti Moad\n",
    "Mohammed khatiri\n",
    "IBHI Ahmed Yassine\n",
    "Mohamed el amine cheddadi\n",
    "Thiam Mouhamadou Taha\n",
    "ZYAD FRI\n",
    "Oussama Yaqdane\n",
    "Othmane AZOUBI\n",
    "Omar HAFIDI\n",
    "Imad Atouani\n",
    "Khaoula jellal\n",
    "Ahmed Quadimi\n",
    "Safae Hajjout\n",
    "Maroua ajkrir\n",
    "RHALLAMI Rhita\n",
    "'''"
   ]
  },
  {
   "cell_type": "code",
   "execution_count": 2,
   "metadata": {},
   "outputs": [],
   "source": [
    "stri = stri.lower().strip().split('\\n')"
   ]
  },
  {
   "cell_type": "code",
   "execution_count": 3,
   "metadata": {},
   "outputs": [],
   "source": [
    "stri = [i.split(\" \") for i in stri]"
   ]
  },
  {
   "cell_type": "code",
   "execution_count": 4,
   "metadata": {},
   "outputs": [
    {
     "data": {
      "text/plain": [
       "64"
      ]
     },
     "execution_count": 4,
     "metadata": {},
     "output_type": "execute_result"
    }
   ],
   "source": [
    "len(stri)\n",
    "got og for fori uin raiaoikgzoifpe,fef"
   ]
  },
  {
   "cell_type": "code",
   "execution_count": null,
   "metadata": {},
   "outputs": [],
   "source": []
  }
 ],
 "metadata": {
  "kernelspec": {
   "display_name": "Python 3",
   "language": "python",
   "name": "python3"
  },
  "language_info": {
   "codemirror_mode": {
    "name": "ipython",
    "version": 3
   },
   "file_extension": ".py",
   "mimetype": "text/x-python",
   "name": "python",
   "nbconvert_exporter": "python",
   "pygments_lexer": "ipython3",
   "version": "3.11.2"
  }
 },
 "nbformat": 4,
 "nbformat_minor": 2
}
